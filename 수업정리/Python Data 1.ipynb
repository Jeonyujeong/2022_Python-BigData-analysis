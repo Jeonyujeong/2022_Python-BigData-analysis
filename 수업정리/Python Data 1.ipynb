{
 "cells": [
  {
   "cell_type": "markdown",
   "id": "0b07b5cc",
   "metadata": {},
   "source": [
    "# Jupyter Notebook\n",
    "## Cell\n",
    "### Command mode(파랑)\n",
    "- 셀 자체에 명령, 삭제, 복사, 이동, 생성...\n",
    "- 셀 바깥쪽 클릭 or ESC\n",
    "- a(bove) : 현재 셀 위에 셀 추가\n",
    "- b(elow) : 현재 셀 아래에 셀 추가\n",
    "- x       : 현재 셀 자르기, 삭제 대용으로 사용\n",
    "- h       : 단축키 사용법\n",
    "    \n",
    "### Edit mode\n",
    "- 셀 안에다 무언가 입력\n",
    "- 안쪽 클릭 or Enter\n",
    "- 파이썬 코드 입력\n",
    "- shift + endter : 현재 셀 실행\n",
    "    - 코드를 적절히 끊어줘야 함\n",
    "- 문서작성    "
   ]
  },
  {
   "cell_type": "markdown",
   "id": "ff889bd2",
   "metadata": {},
   "source": [
    "# 파이썬 기본 문법 리뷰\n",
    "- 파이썬 데이터 // 데이터를 어떻게 다룰 것인가\n",
    "\n",
    "## 1. 파이썬 데이터\n",
    "### 1.1 파이썬 기본 데이터 타입들\n",
    "#### 1.1.1 숫자 데이터(정수, 실수)\n",
    "- 계산기 사용하듯 사용\n",
    "\n",
    "#### 1.1.2 문자열\n",
    "- 생성 : '', \"\" 안에 들어가면 무조건 문자열\n",
    "- 연산 : 더하기 => 하나로 합쳐징\n",
    "    - 숫자와 문자는 연산이 안됨 => 예외) 정수 곱하기 : 정수만큼 반복함\n",
    "- 문자열 기능들\n",
    "    - split, replace, ...\n",
    "    \n",
    "#### 1.1.3 bool\n",
    "- True, False\n",
    "- 연산할 때 정수 1, 0\n",
    "\n",
    "#### 1.1.4 None\n",
    "- 데이터가 없음을 명시적 표현함"
   ]
  },
  {
   "cell_type": "code",
   "execution_count": 12,
   "id": "714aa101",
   "metadata": {},
   "outputs": [
    {
     "data": {
      "text/plain": [
       "['py', 'hon']"
      ]
     },
     "execution_count": 12,
     "metadata": {},
     "output_type": "execute_result"
    }
   ],
   "source": [
    "'python'.split('t')"
   ]
  },
  {
   "cell_type": "markdown",
   "id": "f2ce2de1",
   "metadata": {},
   "source": [
    "### 1.2 변수\n",
    "- 데이터를 재사용하기 위해서 데이터에 이름을 붙여 줌.\n",
    "- = : 할당 연산자, 오른쪽의 데이터를 왼쪽 변수에 할당해 줌\n",
    "- 데이터를 새로 생성했으면 무조건 변수부터 만들어 주자!\n",
    "\n",
    "### 1.3 데이터의 기능과 속성값\n",
    "- 파이썬의 모든 데이터들은 데이터 타입마다 각자 고유한 기능이나 속성값이 있음\n",
    "- .(dot) 연산자 : 앞에 있는 데이터에서 기능이나 속성값을 꺼내줌\n",
    "- 원리만 기억하고 구체적인 기능들은 그때그때 검색해서 씀"
   ]
  },
  {
   "cell_type": "code",
   "execution_count": 10,
   "id": "68010086",
   "metadata": {},
   "outputs": [],
   "source": [
    "test = 3"
   ]
  },
  {
   "cell_type": "markdown",
   "id": "04efd2a1",
   "metadata": {},
   "source": [
    "### 1.4 자료구조\n",
    "- 여러개의 데이터를 효율적으로 묶어서 관리\n",
    "- 파이썬 기본 자료구조\n",
    "- 리스트, 딕셔너리, (튜플, 셋)\n",
    "\n",
    "#### 1.4.1 리스트\n",
    "- 순서\n",
    "- 생성 : []\n",
    "- 데이터 꺼내기 => 순서\n",
    "- 슬라이싱 => 범위를 이용해서 가져오기\n",
    "- append => 데이터 추가, 원본 데이터를 바꿈"
   ]
  },
  {
   "cell_type": "code",
   "execution_count": 14,
   "id": "40dd0f9c",
   "metadata": {},
   "outputs": [],
   "source": [
    "fruits = ['apple', 'banana', 'mango', 'tomato']"
   ]
  },
  {
   "cell_type": "code",
   "execution_count": 17,
   "id": "08a558c9",
   "metadata": {},
   "outputs": [
    {
     "data": {
      "text/plain": [
       "'tomato'"
      ]
     },
     "execution_count": 17,
     "metadata": {},
     "output_type": "execute_result"
    }
   ],
   "source": [
    "fruits[-1]"
   ]
  },
  {
   "cell_type": "code",
   "execution_count": 19,
   "id": "d00f6c5a",
   "metadata": {},
   "outputs": [
    {
     "data": {
      "text/plain": [
       "['banana', 'mango']"
      ]
     },
     "execution_count": 19,
     "metadata": {},
     "output_type": "execute_result"
    }
   ],
   "source": [
    "fruits[1:3]"
   ]
  },
  {
   "cell_type": "code",
   "execution_count": 20,
   "id": "1719d973",
   "metadata": {},
   "outputs": [
    {
     "data": {
      "text/plain": [
       "['apple', 'banana', 'mango']"
      ]
     },
     "execution_count": 20,
     "metadata": {},
     "output_type": "execute_result"
    }
   ],
   "source": [
    "fruits[:3]"
   ]
  },
  {
   "cell_type": "code",
   "execution_count": 21,
   "id": "1b33a1a7",
   "metadata": {},
   "outputs": [],
   "source": [
    "fruits.append('melon')"
   ]
  },
  {
   "cell_type": "code",
   "execution_count": 22,
   "id": "94bad932",
   "metadata": {},
   "outputs": [
    {
     "data": {
      "text/plain": [
       "['apple', 'banana', 'mango', 'tomato', 'melon']"
      ]
     },
     "execution_count": 22,
     "metadata": {},
     "output_type": "execute_result"
    }
   ],
   "source": [
    "fruits"
   ]
  },
  {
   "cell_type": "code",
   "execution_count": null,
   "id": "0328615c",
   "metadata": {},
   "outputs": [],
   "source": [
    "test = []\n",
    "\n",
    "test.append( 데이터 )\n",
    "test.append( 데이터 )"
   ]
  },
  {
   "cell_type": "markdown",
   "id": "816199ae",
   "metadata": {},
   "source": [
    "#### 1.4.2 딕셔너리\n",
    "- 순서 x, 데이터마다 키값이 있음\n",
    "- 생성 : { }\n",
    "- 데이터 꺼내기\n",
    "    - 파이썬의 모든 자료구조는 데이터를 꺼낼 때 [ ]\n",
    "- 데이터 추가하기\n",
    "    - dict[키] = 데이터"
   ]
  },
  {
   "cell_type": "code",
   "execution_count": 24,
   "id": "a8fb1d89",
   "metadata": {},
   "outputs": [],
   "source": [
    "#math, eng, kor\n",
    "\n",
    "grade = {'math':100, 'eng':92, 'kor':88}"
   ]
  },
  {
   "cell_type": "code",
   "execution_count": 25,
   "id": "9148c82f",
   "metadata": {},
   "outputs": [
    {
     "data": {
      "text/plain": [
       "100"
      ]
     },
     "execution_count": 25,
     "metadata": {},
     "output_type": "execute_result"
    }
   ],
   "source": [
    "grade['math']"
   ]
  },
  {
   "cell_type": "code",
   "execution_count": 26,
   "id": "d36a309f",
   "metadata": {},
   "outputs": [
    {
     "data": {
      "text/plain": [
       "dict_keys(['math', 'eng', 'kor'])"
      ]
     },
     "execution_count": 26,
     "metadata": {},
     "output_type": "execute_result"
    }
   ],
   "source": [
    "grade.keys()"
   ]
  },
  {
   "cell_type": "code",
   "execution_count": 28,
   "id": "ee2bfbe6",
   "metadata": {},
   "outputs": [],
   "source": [
    "grade['music'] = 90"
   ]
  },
  {
   "cell_type": "code",
   "execution_count": 29,
   "id": "42fbd2b6",
   "metadata": {},
   "outputs": [
    {
     "data": {
      "text/plain": [
       "{'math': 100, 'eng': 92, 'kor': 88, 'music': 90}"
      ]
     },
     "execution_count": 29,
     "metadata": {},
     "output_type": "execute_result"
    }
   ],
   "source": [
    "grade"
   ]
  },
  {
   "cell_type": "code",
   "execution_count": null,
   "id": "c5dfc9cf",
   "metadata": {},
   "outputs": [],
   "source": [
    "test = {}\n",
    "\n",
    "test[키] = 데이터\n",
    "test[키] = 데이터"
   ]
  },
  {
   "cell_type": "markdown",
   "id": "82a7b1c3",
   "metadata": {},
   "source": [
    "#### 1.4.3 셋(set)\n",
    "- 수학의 집합, 순서x, 중복x\n",
    "- 집합 연산이 가능 => 교집합, 합집합, 차집합"
   ]
  },
  {
   "cell_type": "code",
   "execution_count": 30,
   "id": "a8ea24a9",
   "metadata": {},
   "outputs": [
    {
     "data": {
      "text/plain": [
       "{1, 2, 3, 4}"
      ]
     },
     "execution_count": 30,
     "metadata": {},
     "output_type": "execute_result"
    }
   ],
   "source": [
    "set([1,2,3,4,1,1,1])"
   ]
  },
  {
   "cell_type": "code",
   "execution_count": 31,
   "id": "1ddb3d40",
   "metadata": {},
   "outputs": [],
   "source": [
    "a_category = [1,2,1,2,3]\n",
    "b_category = [2,3,4,5,6]"
   ]
  },
  {
   "cell_type": "code",
   "execution_count": 34,
   "id": "db3d5205",
   "metadata": {},
   "outputs": [
    {
     "data": {
      "text/plain": [
       "{1}"
      ]
     },
     "execution_count": 34,
     "metadata": {},
     "output_type": "execute_result"
    }
   ],
   "source": [
    "set(a_category) - set(b_category)"
   ]
  },
  {
   "cell_type": "code",
   "execution_count": 35,
   "id": "7a31f900",
   "metadata": {},
   "outputs": [
    {
     "data": {
      "text/plain": [
       "{4, 5, 6}"
      ]
     },
     "execution_count": 35,
     "metadata": {},
     "output_type": "execute_result"
    }
   ],
   "source": [
    "set(b_category) - set(a_category)"
   ]
  },
  {
   "cell_type": "code",
   "execution_count": 36,
   "id": "db4a62a3",
   "metadata": {},
   "outputs": [
    {
     "data": {
      "text/plain": [
       "{1, 2, 3, 4, 5, 6}"
      ]
     },
     "execution_count": 36,
     "metadata": {},
     "output_type": "execute_result"
    }
   ],
   "source": [
    "set(a_category) | set(b_category)"
   ]
  },
  {
   "cell_type": "code",
   "execution_count": 37,
   "id": "acd1ec86",
   "metadata": {},
   "outputs": [
    {
     "data": {
      "text/plain": [
       "{2, 3}"
      ]
     },
     "execution_count": 37,
     "metadata": {},
     "output_type": "execute_result"
    }
   ],
   "source": [
    "set(a_category) & set(b_category)"
   ]
  },
  {
   "cell_type": "markdown",
   "id": "3d27d68c",
   "metadata": {},
   "source": [
    "## 2. 데이터를 어떻게 다룰 것인가\n",
    "- 연산\n",
    "- 함수\n",
    "- 제어문\n",
    "\n",
    "### 2.1 함수\n",
    "- 동작, 기능\n",
    "- ( ) => 동작버튼\n",
    "- ( ) => 인풋들의 입구\n",
    "    - 함수를 제대로 사용하려면 인풋을 요구사항에 맞게 제대로 넣어야 함\n",
    "    - 데이터의 갯수와 순서와 타입을 맞춰야 함\n",
    "    - 함수 shift + tab => 함수 사용법 확인 가능\n",
    "- 리턴값(결과값)\n",
    "    - 새로운 데이터가 생성되는지 아닌지\n",
    "    - 생성되면 어떤 타입의 데이터인지\n",
    "    - 변수에 할당 가능한지 확인하면 됨"
   ]
  },
  {
   "cell_type": "code",
   "execution_count": 41,
   "id": "472542b7",
   "metadata": {},
   "outputs": [
    {
     "name": "stdout",
     "output_type": "stream",
     "text": [
      "1 2\n"
     ]
    }
   ],
   "source": [
    "print(1, 2) #새로운 데이터를 생성한 것이 아닌 화면에 출력만 해준것"
   ]
  },
  {
   "cell_type": "code",
   "execution_count": 42,
   "id": "b72dca45",
   "metadata": {},
   "outputs": [
    {
     "data": {
      "text/plain": [
       "6"
      ]
     },
     "execution_count": 42,
     "metadata": {},
     "output_type": "execute_result"
    }
   ],
   "source": [
    "sum( [1, 2, 3])"
   ]
  },
  {
   "cell_type": "markdown",
   "id": "4b204a46",
   "metadata": {},
   "source": [
    "### 2.2 반복문\n",
    "- DRY : Do not Repeat Yourself <=> DIY : Doing Yourself"
   ]
  },
  {
   "cell_type": "markdown",
   "id": "328c46dc",
   "metadata": {},
   "source": [
    "### 2.3 For문\n",
    "- 순서있는 자료구조에서 데이터를 순차적으로 꺼내는 느낌"
   ]
  },
  {
   "cell_type": "code",
   "execution_count": null,
   "id": "14127e92",
   "metadata": {},
   "outputs": [],
   "source": [
    "#for문 문법\n",
    "\n",
    "for (임시)변수 in 순서있는 자료구조(리스트):\n",
    "    반복하고 싶은 코드"
   ]
  },
  {
   "cell_type": "code",
   "execution_count": 43,
   "id": "15114f35",
   "metadata": {},
   "outputs": [
    {
     "name": "stdout",
     "output_type": "stream",
     "text": [
      "1\n",
      "2\n",
      "3\n",
      "4\n",
      "5\n"
     ]
    }
   ],
   "source": [
    "for num in [1,2,3,4,5]:\n",
    "    print(num)"
   ]
  },
  {
   "cell_type": "code",
   "execution_count": 49,
   "id": "379ca84b",
   "metadata": {},
   "outputs": [
    {
     "data": {
      "text/plain": [
       "10.0"
      ]
     },
     "execution_count": 49,
     "metadata": {},
     "output_type": "execute_result"
    }
   ],
   "source": [
    "# for문 연습 1 - 리스트 안의 숫자들을 다 더해보세요\n",
    "\n",
    "num_list = [10, 11, 12, 13, 7, 8, 9]\n",
    "\n",
    "result = 0\n",
    "for num in num_list:\n",
    "    result += num\n",
    "    \n",
    "result / len(num_list)"
   ]
  },
  {
   "cell_type": "code",
   "execution_count": 51,
   "id": "99fb9917",
   "metadata": {},
   "outputs": [
    {
     "data": {
      "text/plain": [
       "8648640"
      ]
     },
     "execution_count": 51,
     "metadata": {},
     "output_type": "execute_result"
    }
   ],
   "source": [
    "# for문 연습 2 - 리스트 안의 숫자들을 다 곱해보세요\n",
    "\n",
    "num_list = [10, 11, 12, 13, 7, 8, 9]\n",
    "\n",
    "result = 1\n",
    "for num in num_list:\n",
    "    result *= num\n",
    "    \n",
    "result"
   ]
  },
  {
   "cell_type": "code",
   "execution_count": 56,
   "id": "c5d78876",
   "metadata": {},
   "outputs": [
    {
     "data": {
      "text/plain": [
       "[20, 22, 24, 26, 14, 16, 18]"
      ]
     },
     "execution_count": 56,
     "metadata": {},
     "output_type": "execute_result"
    }
   ],
   "source": [
    "# for문 연습 3 - 리스트 안의 숫자들을 다 두배씩 해보세요\n",
    "\n",
    "num_list = [10, 11, 12, 13, 7, 8, 9]\n",
    "\n",
    "result = []\n",
    "for num in num_list:\n",
    "    result.append(num*2)\n",
    "\n",
    "result"
   ]
  },
  {
   "cell_type": "code",
   "execution_count": 57,
   "id": "20a1ae15",
   "metadata": {
    "collapsed": true
   },
   "outputs": [
    {
     "name": "stdout",
     "output_type": "stream",
     "text": [
      "1\n",
      "2\n",
      "3\n",
      "4\n",
      "5\n",
      "6\n",
      "7\n",
      "8\n",
      "9\n",
      "10\n"
     ]
    }
   ],
   "source": [
    "# range( 시작, 끝 ) => [시작, ..., 끝-1] 정수로 이루어진 리스트가 만들어 짐(실제 리스트가 만들어지는 것은 아님)\n",
    "\n",
    "for num in range(1, 11):\n",
    "    print(num)"
   ]
  },
  {
   "cell_type": "markdown",
   "id": "08e001db",
   "metadata": {},
   "source": [
    "### 2.4 조건문\n",
    "- 조건에 따라 실행되는 코드를 다르게 하려고"
   ]
  },
  {
   "cell_type": "code",
   "execution_count": null,
   "id": "b830df29",
   "metadata": {},
   "outputs": [],
   "source": [
    "# 조건문 문법\n",
    "\n",
    "if 조건:\n",
    "    조건이 참일 때 실행되는 코드\n",
    "elif 조건2:\n",
    "    조건2가 참일 때 실행되는 코드\n",
    "...    \n",
    "else:\n",
    "    위에 있는 조건 빼고 다(여집합)"
   ]
  },
  {
   "cell_type": "code",
   "execution_count": 59,
   "id": "75b1d1ec",
   "metadata": {},
   "outputs": [
    {
     "name": "stdout",
     "output_type": "stream",
     "text": [
      "false\n"
     ]
    }
   ],
   "source": [
    "# 조건문에 조건 대신 데이터도 옴 => 파이썬의 모든 데이터들은 조건문에서 자동으로 True, False로 분류됨\n",
    "# True   => 데이터가 무언가 채워져 있을 때\n",
    "# False  => 데이터가 무언가 비워져 있을 때\n",
    "\n",
    "data = ''\n",
    "\n",
    "if data:\n",
    "    print(\"true\")\n",
    "else:\n",
    "    print(\"false\")"
   ]
  },
  {
   "cell_type": "code",
   "execution_count": 61,
   "id": "f03d7ccd",
   "metadata": {},
   "outputs": [
    {
     "data": {
      "text/plain": [
       "['py', 'hon']"
      ]
     },
     "execution_count": 61,
     "metadata": {},
     "output_type": "execute_result"
    }
   ],
   "source": [
    "# 문자열의 기능들\n",
    "# 1. split\n",
    "# 특정문자를 기준으로 원래 문자를 잘라줌\n",
    "# 결과는 문자열 리스트 생성\n",
    "\n",
    "test = 'python'\n",
    "test.split('t')"
   ]
  },
  {
   "cell_type": "code",
   "execution_count": 62,
   "id": "c043fa6b",
   "metadata": {},
   "outputs": [
    {
     "data": {
      "text/plain": [
       "['result', 'data', 'data2', 'result']"
      ]
     },
     "execution_count": 62,
     "metadata": {},
     "output_type": "execute_result"
    }
   ],
   "source": [
    "# split 연습문제\n",
    "\n",
    "test_list = ['result.xlsx', 'data.pdf', 'data2.xlsx', 'result.doc']\n",
    "\n",
    "result = []\n",
    "for test in test_list:\n",
    "    result.append(test.split('.')[0])\n",
    "\n",
    "result"
   ]
  },
  {
   "cell_type": "code",
   "execution_count": 64,
   "id": "cac67022",
   "metadata": {},
   "outputs": [
    {
     "data": {
      "text/plain": [
       "'cythom'"
      ]
     },
     "execution_count": 64,
     "metadata": {},
     "output_type": "execute_result"
    }
   ],
   "source": [
    "# 2. replace\n",
    "# 문자열 안의 특정 문자를 찾아서 다른 문자로 바꿔줌\n",
    "# 결과로 문자열이 생성됨 => 연속으로 사용 가능\n",
    "\n",
    "test = 'python'\n",
    "test.replace('p', 'c').replace('n', 'm')"
   ]
  },
  {
   "cell_type": "code",
   "execution_count": 70,
   "id": "16e6b821",
   "metadata": {},
   "outputs": [
    {
     "data": {
      "text/plain": [
       "2375.0"
      ]
     },
     "execution_count": 70,
     "metadata": {},
     "output_type": "execute_result"
    }
   ],
   "source": [
    "# replace 연습문제\n",
    "\n",
    "price_list = ['3,000won', '2,800won', '500won', '3,200won']\n",
    "\n",
    "result = 0\n",
    "for price in price_list:\n",
    "    result += int( price.replace(',', '').replace('won', '') )\n",
    "    \n",
    "result / len(price_list)"
   ]
  },
  {
   "cell_type": "code",
   "execution_count": 78,
   "id": "5e082457",
   "metadata": {},
   "outputs": [
    {
     "name": "stdout",
     "output_type": "stream",
     "text": [
      "data 1\n",
      "data 2\n",
      "data 3\n",
      "data 4\n",
      "data 5\n"
     ]
    }
   ],
   "source": [
    "# 3. format\n",
    "\n",
    "for num in range(1,6):\n",
    "    print('data {}'.format(num) )"
   ]
  },
  {
   "cell_type": "code",
   "execution_count": 80,
   "id": "f521958d",
   "metadata": {
    "collapsed": true
   },
   "outputs": [
    {
     "name": "stdout",
     "output_type": "stream",
     "text": [
      "2 * 1 = 2\n",
      "2 * 2 = 4\n",
      "2 * 3 = 6\n",
      "2 * 4 = 8\n",
      "2 * 5 = 10\n",
      "2 * 6 = 12\n",
      "2 * 7 = 14\n",
      "2 * 8 = 16\n",
      "2 * 9 = 18\n",
      "\n",
      "3 * 1 = 3\n",
      "3 * 2 = 6\n",
      "3 * 3 = 9\n",
      "3 * 4 = 12\n",
      "3 * 5 = 15\n",
      "3 * 6 = 18\n",
      "3 * 7 = 21\n",
      "3 * 8 = 24\n",
      "3 * 9 = 27\n",
      "\n",
      "4 * 1 = 4\n",
      "4 * 2 = 8\n",
      "4 * 3 = 12\n",
      "4 * 4 = 16\n",
      "4 * 5 = 20\n",
      "4 * 6 = 24\n",
      "4 * 7 = 28\n",
      "4 * 8 = 32\n",
      "4 * 9 = 36\n",
      "\n",
      "5 * 1 = 5\n",
      "5 * 2 = 10\n",
      "5 * 3 = 15\n",
      "5 * 4 = 20\n",
      "5 * 5 = 25\n",
      "5 * 6 = 30\n",
      "5 * 7 = 35\n",
      "5 * 8 = 40\n",
      "5 * 9 = 45\n",
      "\n",
      "6 * 1 = 6\n",
      "6 * 2 = 12\n",
      "6 * 3 = 18\n",
      "6 * 4 = 24\n",
      "6 * 5 = 30\n",
      "6 * 6 = 36\n",
      "6 * 7 = 42\n",
      "6 * 8 = 48\n",
      "6 * 9 = 54\n",
      "\n",
      "7 * 1 = 7\n",
      "7 * 2 = 14\n",
      "7 * 3 = 21\n",
      "7 * 4 = 28\n",
      "7 * 5 = 35\n",
      "7 * 6 = 42\n",
      "7 * 7 = 49\n",
      "7 * 8 = 56\n",
      "7 * 9 = 63\n",
      "\n",
      "8 * 1 = 8\n",
      "8 * 2 = 16\n",
      "8 * 3 = 24\n",
      "8 * 4 = 32\n",
      "8 * 5 = 40\n",
      "8 * 6 = 48\n",
      "8 * 7 = 56\n",
      "8 * 8 = 64\n",
      "8 * 9 = 72\n",
      "\n",
      "9 * 1 = 9\n",
      "9 * 2 = 18\n",
      "9 * 3 = 27\n",
      "9 * 4 = 36\n",
      "9 * 5 = 45\n",
      "9 * 6 = 54\n",
      "9 * 7 = 63\n",
      "9 * 8 = 72\n",
      "9 * 9 = 81\n",
      "\n"
     ]
    }
   ],
   "source": [
    "for i in range(2,10):\n",
    "    for j in range(1,10):\n",
    "        print('{} * {} = {}'.format(i, j, i*j))\n",
    "    print()"
   ]
  },
  {
   "cell_type": "markdown",
   "id": "d0524f9f",
   "metadata": {},
   "source": [
    "## 3. 함수와 모듈\n",
    "### 3.1 함수\n",
    "- 코드를 재사용하기 위해서 코드에 이름을 붙여줌"
   ]
  },
  {
   "cell_type": "code",
   "execution_count": 86,
   "id": "1f663793",
   "metadata": {},
   "outputs": [],
   "source": [
    "# 왜 함수를 만들어야 하나?\n",
    "# 1. 변수 중복\n",
    "# 2. 변수명 통일이 안됨\n",
    "\n",
    "pi = 3.14\n",
    "result = pi * 1.14\n",
    "some_list = [result, 0.11, 3.01, 2.01, 5]\n",
    "\n",
    "result = 0\n",
    "for num in num_list:\n",
    "    result += num\n",
    "    \n",
    "result / len(num_list)"
   ]
  },
  {
   "cell_type": "code",
   "execution_count": null,
   "id": "2521e77f",
   "metadata": {},
   "outputs": [],
   "source": [
    "# 함수 정의\n",
    "\n",
    "def 함수이름( 값을 확정하지 않은 변수들(매개변수) ):\n",
    "    재사용하고 싶은 코드\n",
    "    return 가져오고 싶은 값들   # 값이 리턴되는 것이지 변수가 리턴되는 것은 아님"
   ]
  },
  {
   "cell_type": "code",
   "execution_count": 91,
   "id": "877c3698",
   "metadata": {},
   "outputs": [],
   "source": [
    "def get_avg(num_list):\n",
    "    result = 0\n",
    "    for num in num_list:\n",
    "        result += num\n",
    "\n",
    "    avg = result / len(num_list)\n",
    "    return avg"
   ]
  },
  {
   "cell_type": "code",
   "execution_count": 95,
   "id": "7fb0beca",
   "metadata": {},
   "outputs": [
    {
     "data": {
      "text/plain": [
       "3.5"
      ]
     },
     "execution_count": 95,
     "metadata": {},
     "output_type": "execute_result"
    }
   ],
   "source": [
    "get_avg([2, 3, 4, 5])"
   ]
  },
  {
   "cell_type": "code",
   "execution_count": 101,
   "id": "d62b3a76",
   "metadata": {},
   "outputs": [],
   "source": [
    "# 직각 삼각형 빗변의 길이\n",
    "\n",
    "import math\n",
    "\n",
    "def get_side(bottom, height):\n",
    "    side = math.sqrt(bottom**2 + height**2)\n",
    "    return side"
   ]
  },
  {
   "cell_type": "code",
   "execution_count": 109,
   "id": "d5984cb3",
   "metadata": {},
   "outputs": [
    {
     "data": {
      "text/plain": [
       "1.4142135623730951"
      ]
     },
     "execution_count": 109,
     "metadata": {},
     "output_type": "execute_result"
    }
   ],
   "source": [
    "get_side(1,1)"
   ]
  },
  {
   "cell_type": "code",
   "execution_count": 112,
   "id": "d74b7fe6",
   "metadata": {},
   "outputs": [],
   "source": [
    "import my_lib"
   ]
  },
  {
   "cell_type": "code",
   "execution_count": 113,
   "id": "8c780704",
   "metadata": {},
   "outputs": [
    {
     "data": {
      "text/plain": [
       "2.23606797749979"
      ]
     },
     "execution_count": 113,
     "metadata": {},
     "output_type": "execute_result"
    }
   ],
   "source": [
    "my_lib.get_side(1,2)"
   ]
  },
  {
   "cell_type": "markdown",
   "id": "b8f85218",
   "metadata": {},
   "source": [
    "# Pandas\n",
    "- 새로운 자료구조 2개를 제공\n",
    "- Series, DataFrame"
   ]
  },
  {
   "cell_type": "code",
   "execution_count": 114,
   "id": "b74d589a",
   "metadata": {},
   "outputs": [],
   "source": [
    "import pandas as pd"
   ]
  },
  {
   "cell_type": "code",
   "execution_count": 115,
   "id": "ecd0c763",
   "metadata": {},
   "outputs": [],
   "source": [
    "# A, B, C, D, E\n",
    "\n",
    "math = [90, 92, 89, 90, 91]\n",
    "eng = [89, 90, 93, 91, 88]\n",
    "kor = [92, 91, 92, 90, 92]"
   ]
  },
  {
   "cell_type": "markdown",
   "id": "5bcebda6",
   "metadata": {},
   "source": [
    "## 1. Series\n",
    "- 1차원 자료구조\n",
    "- 구성요서 2개 : index, values\n",
    "- 순서있음"
   ]
  },
  {
   "cell_type": "code",
   "execution_count": 135,
   "id": "559873d3",
   "metadata": {},
   "outputs": [],
   "source": [
    "math_sr = pd.Series( math, index=['A', 'B', 'C', 'D', 'E'] )\n",
    "eng_sr = pd.Series( eng, index=['A', 'B', 'C', 'D', 'E'] )"
   ]
  },
  {
   "cell_type": "code",
   "execution_count": 125,
   "id": "c2fc0ef3",
   "metadata": {},
   "outputs": [
    {
     "name": "stdout",
     "output_type": "stream",
     "text": [
      "90\n",
      "90\n"
     ]
    }
   ],
   "source": [
    "# 데이터 꺼내기\n",
    "# 인덱스, 순서 모두 가능\n",
    "\n",
    "print(math_sr['A'])\n",
    "print(math_sr[0])"
   ]
  },
  {
   "cell_type": "code",
   "execution_count": 127,
   "id": "77e8bddd",
   "metadata": {},
   "outputs": [
    {
     "data": {
      "text/plain": [
       "A    90\n",
       "B    92\n",
       "C    89\n",
       "D    90\n",
       "dtype: int64"
      ]
     },
     "execution_count": 127,
     "metadata": {},
     "output_type": "execute_result"
    }
   ],
   "source": [
    "# 슬라이싱\n",
    "\n",
    "math_sr['A':'D']"
   ]
  },
  {
   "cell_type": "code",
   "execution_count": 130,
   "id": "86ac0c38",
   "metadata": {},
   "outputs": [
    {
     "data": {
      "text/plain": [
       "B    92\n",
       "E    91\n",
       "A    90\n",
       "D    90\n",
       "C    89\n",
       "dtype: int64"
      ]
     },
     "execution_count": 130,
     "metadata": {},
     "output_type": "execute_result"
    }
   ],
   "source": [
    "# 기능들 => 매우 많음\n",
    "# 정렬\n",
    "\n",
    "math_sr.sort_values( ascending=False )  # 인덱스와 같이 움직임"
   ]
  },
  {
   "cell_type": "code",
   "execution_count": 133,
   "id": "a92a108b",
   "metadata": {
    "collapsed": true
   },
   "outputs": [
    {
     "data": {
      "text/plain": [
       "count     5.000000\n",
       "mean     90.400000\n",
       "std       1.140175\n",
       "min      89.000000\n",
       "25%      90.000000\n",
       "50%      90.000000\n",
       "75%      91.000000\n",
       "max      92.000000\n",
       "dtype: float64"
      ]
     },
     "execution_count": 133,
     "metadata": {},
     "output_type": "execute_result"
    }
   ],
   "source": [
    "# 간단한 통계값들\n",
    "\n",
    "math_sr.describe()"
   ]
  },
  {
   "cell_type": "code",
   "execution_count": 134,
   "id": "8f9524e9",
   "metadata": {},
   "outputs": [
    {
     "data": {
      "text/plain": [
       "B    92\n",
       "E    91\n",
       "dtype: int64"
      ]
     },
     "execution_count": 134,
     "metadata": {},
     "output_type": "execute_result"
    }
   ],
   "source": [
    "# 필터링\n",
    "# 데이터를 가져오는데 조건을 이용해서 가져옴\n",
    "\n",
    "math_sr[ math_sr > 90 ]"
   ]
  },
  {
   "cell_type": "code",
   "execution_count": 140,
   "id": "498f9263",
   "metadata": {},
   "outputs": [
    {
     "data": {
      "text/plain": [
       "A    1.011236\n",
       "B    1.022222\n",
       "C    0.956989\n",
       "D    0.989011\n",
       "E    1.034091\n",
       "dtype: float64"
      ]
     },
     "execution_count": 140,
     "metadata": {},
     "output_type": "execute_result"
    }
   ],
   "source": [
    "#시리즈의 연산\n",
    "# 값을 기준으로 연산함 - 같은 인덱스끼리 연산\n",
    "\n",
    "math_sr / eng_sr"
   ]
  },
  {
   "cell_type": "code",
   "execution_count": 144,
   "id": "1b3397f9",
   "metadata": {},
   "outputs": [
    {
     "data": {
      "text/plain": [
       "A    False\n",
       "B     True\n",
       "C    False\n",
       "D    False\n",
       "E     True\n",
       "dtype: bool"
      ]
     },
     "execution_count": 144,
     "metadata": {},
     "output_type": "execute_result"
    }
   ],
   "source": [
    "# 시리즈의 연산2\n",
    "# 시리즈와 값 하나 연산 => 시리즈에 모든 데이터에게 똑같이 연산해 줌\n",
    "\n",
    "math_sr > 90"
   ]
  },
  {
   "cell_type": "code",
   "execution_count": 147,
   "id": "7c167928",
   "metadata": {},
   "outputs": [
    {
     "data": {
      "text/plain": [
       "A    89.5\n",
       "B    91.0\n",
       "C    91.0\n",
       "D    90.5\n",
       "E    89.5\n",
       "dtype: float64"
      ]
     },
     "execution_count": 147,
     "metadata": {},
     "output_type": "execute_result"
    }
   ],
   "source": [
    "(math_sr + eng_sr) / 2"
   ]
  },
  {
   "cell_type": "markdown",
   "id": "e14407e7",
   "metadata": {},
   "source": [
    "## 2. DataFrame\n",
    "- 2차원 자료구조\n",
    "- 구성요소 3개 : column, index, values\n",
    "- 순서있음 => 기본적으로 행방향"
   ]
  },
  {
   "cell_type": "code",
   "execution_count": 158,
   "id": "b9e123a2",
   "metadata": {},
   "outputs": [],
   "source": [
    "# A, B, C, D, E\n",
    "\n",
    "math = [90, 92, 89, 90, 91]\n",
    "eng = [89, 90, 93, 91, 88]\n",
    "kor = [92, 91, 92, 90, 92]\n",
    "\n",
    "temp = {'math':math, 'eng':eng, 'kor':kor}\n",
    "grade_df = pd.DataFrame( temp, index=['A', 'B', 'C', 'D', 'E'] )"
   ]
  },
  {
   "cell_type": "code",
   "execution_count": 160,
   "id": "11acfb19",
   "metadata": {},
   "outputs": [
    {
     "data": {
      "text/plain": [
       "A    90\n",
       "B    92\n",
       "C    89\n",
       "D    90\n",
       "E    91\n",
       "Name: math, dtype: int64"
      ]
     },
     "execution_count": 160,
     "metadata": {},
     "output_type": "execute_result"
    }
   ],
   "source": [
    "# 데이터 꺼내기\n",
    "# 기본적으로 컬럼으로 접근\n",
    "\n",
    "grade_df['math']"
   ]
  },
  {
   "cell_type": "code",
   "execution_count": 161,
   "id": "263f6e41",
   "metadata": {},
   "outputs": [
    {
     "data": {
      "text/plain": [
       "math    90\n",
       "eng     89\n",
       "kor     92\n",
       "Name: A, dtype: int64"
      ]
     },
     "execution_count": 161,
     "metadata": {},
     "output_type": "execute_result"
    }
   ],
   "source": [
    "# 인덱스(행)을 기준으로 가져오고 싶을 때\n",
    "# .loc\n",
    "\n",
    "grade_df.loc['A']"
   ]
  },
  {
   "cell_type": "code",
   "execution_count": 164,
   "id": "715017fd",
   "metadata": {},
   "outputs": [
    {
     "data": {
      "text/plain": [
       "90"
      ]
     },
     "execution_count": 164,
     "metadata": {},
     "output_type": "execute_result"
    }
   ],
   "source": [
    "# 한 포인트로 접근하기\n",
    "# .loc[인덱스, 컬럼]\n",
    "# 어떤 데이터를 바꿀 때도 포인트로 접근\n",
    "\n",
    "grade_df.loc['A', 'math']"
   ]
  },
  {
   "cell_type": "code",
   "execution_count": null,
   "id": "a700c847",
   "metadata": {},
   "outputs": [],
   "source": [
    "# 데이터프레임에서 컬럼에 접근하고 인덱스에 접근하기 때문에 값 변경x\n",
    "\n",
    "grade_df['math']['A']"
   ]
  },
  {
   "cell_type": "code",
   "execution_count": 170,
   "id": "6a3290a7",
   "metadata": {
    "scrolled": true
   },
   "outputs": [
    {
     "data": {
      "text/html": [
       "<div>\n",
       "<style scoped>\n",
       "    .dataframe tbody tr th:only-of-type {\n",
       "        vertical-align: middle;\n",
       "    }\n",
       "\n",
       "    .dataframe tbody tr th {\n",
       "        vertical-align: top;\n",
       "    }\n",
       "\n",
       "    .dataframe thead th {\n",
       "        text-align: right;\n",
       "    }\n",
       "</style>\n",
       "<table border=\"1\" class=\"dataframe\">\n",
       "  <thead>\n",
       "    <tr style=\"text-align: right;\">\n",
       "      <th></th>\n",
       "      <th>math</th>\n",
       "      <th>eng</th>\n",
       "      <th>kor</th>\n",
       "    </tr>\n",
       "  </thead>\n",
       "  <tbody>\n",
       "    <tr>\n",
       "      <th>B</th>\n",
       "      <td>92</td>\n",
       "      <td>90</td>\n",
       "      <td>91</td>\n",
       "    </tr>\n",
       "    <tr>\n",
       "      <th>E</th>\n",
       "      <td>91</td>\n",
       "      <td>88</td>\n",
       "      <td>92</td>\n",
       "    </tr>\n",
       "    <tr>\n",
       "      <th>D</th>\n",
       "      <td>90</td>\n",
       "      <td>91</td>\n",
       "      <td>90</td>\n",
       "    </tr>\n",
       "    <tr>\n",
       "      <th>A</th>\n",
       "      <td>90</td>\n",
       "      <td>89</td>\n",
       "      <td>92</td>\n",
       "    </tr>\n",
       "    <tr>\n",
       "      <th>C</th>\n",
       "      <td>89</td>\n",
       "      <td>93</td>\n",
       "      <td>92</td>\n",
       "    </tr>\n",
       "  </tbody>\n",
       "</table>\n",
       "</div>"
      ],
      "text/plain": [
       "   math  eng  kor\n",
       "B    92   90   91\n",
       "E    91   88   92\n",
       "D    90   91   90\n",
       "A    90   89   92\n",
       "C    89   93   92"
      ]
     },
     "execution_count": 170,
     "metadata": {},
     "output_type": "execute_result"
    }
   ],
   "source": [
    "#기능들 \n",
    "# 정렬\n",
    "\n",
    "grade_df.sort_values(['math', 'eng'], ascending=False)"
   ]
  },
  {
   "cell_type": "code",
   "execution_count": 171,
   "id": "5e993ec8",
   "metadata": {},
   "outputs": [
    {
     "data": {
      "text/html": [
       "<div>\n",
       "<style scoped>\n",
       "    .dataframe tbody tr th:only-of-type {\n",
       "        vertical-align: middle;\n",
       "    }\n",
       "\n",
       "    .dataframe tbody tr th {\n",
       "        vertical-align: top;\n",
       "    }\n",
       "\n",
       "    .dataframe thead th {\n",
       "        text-align: right;\n",
       "    }\n",
       "</style>\n",
       "<table border=\"1\" class=\"dataframe\">\n",
       "  <thead>\n",
       "    <tr style=\"text-align: right;\">\n",
       "      <th></th>\n",
       "      <th>math</th>\n",
       "      <th>eng</th>\n",
       "      <th>kor</th>\n",
       "    </tr>\n",
       "  </thead>\n",
       "  <tbody>\n",
       "    <tr>\n",
       "      <th>count</th>\n",
       "      <td>5.000000</td>\n",
       "      <td>5.000000</td>\n",
       "      <td>5.000000</td>\n",
       "    </tr>\n",
       "    <tr>\n",
       "      <th>mean</th>\n",
       "      <td>90.400000</td>\n",
       "      <td>90.200000</td>\n",
       "      <td>91.400000</td>\n",
       "    </tr>\n",
       "    <tr>\n",
       "      <th>std</th>\n",
       "      <td>1.140175</td>\n",
       "      <td>1.923538</td>\n",
       "      <td>0.894427</td>\n",
       "    </tr>\n",
       "    <tr>\n",
       "      <th>min</th>\n",
       "      <td>89.000000</td>\n",
       "      <td>88.000000</td>\n",
       "      <td>90.000000</td>\n",
       "    </tr>\n",
       "    <tr>\n",
       "      <th>25%</th>\n",
       "      <td>90.000000</td>\n",
       "      <td>89.000000</td>\n",
       "      <td>91.000000</td>\n",
       "    </tr>\n",
       "    <tr>\n",
       "      <th>50%</th>\n",
       "      <td>90.000000</td>\n",
       "      <td>90.000000</td>\n",
       "      <td>92.000000</td>\n",
       "    </tr>\n",
       "    <tr>\n",
       "      <th>75%</th>\n",
       "      <td>91.000000</td>\n",
       "      <td>91.000000</td>\n",
       "      <td>92.000000</td>\n",
       "    </tr>\n",
       "    <tr>\n",
       "      <th>max</th>\n",
       "      <td>92.000000</td>\n",
       "      <td>93.000000</td>\n",
       "      <td>92.000000</td>\n",
       "    </tr>\n",
       "  </tbody>\n",
       "</table>\n",
       "</div>"
      ],
      "text/plain": [
       "            math        eng        kor\n",
       "count   5.000000   5.000000   5.000000\n",
       "mean   90.400000  90.200000  91.400000\n",
       "std     1.140175   1.923538   0.894427\n",
       "min    89.000000  88.000000  90.000000\n",
       "25%    90.000000  89.000000  91.000000\n",
       "50%    90.000000  90.000000  92.000000\n",
       "75%    91.000000  91.000000  92.000000\n",
       "max    92.000000  93.000000  92.000000"
      ]
     },
     "execution_count": 171,
     "metadata": {},
     "output_type": "execute_result"
    }
   ],
   "source": [
    "# 간단한 통계값\n",
    "\n",
    "grade_df.describe()"
   ]
  },
  {
   "cell_type": "code",
   "execution_count": 174,
   "id": "9cfe0b0e",
   "metadata": {
    "scrolled": true
   },
   "outputs": [
    {
     "data": {
      "text/html": [
       "<div>\n",
       "<style scoped>\n",
       "    .dataframe tbody tr th:only-of-type {\n",
       "        vertical-align: middle;\n",
       "    }\n",
       "\n",
       "    .dataframe tbody tr th {\n",
       "        vertical-align: top;\n",
       "    }\n",
       "\n",
       "    .dataframe thead th {\n",
       "        text-align: right;\n",
       "    }\n",
       "</style>\n",
       "<table border=\"1\" class=\"dataframe\">\n",
       "  <thead>\n",
       "    <tr style=\"text-align: right;\">\n",
       "      <th></th>\n",
       "      <th>math</th>\n",
       "      <th>eng</th>\n",
       "      <th>kor</th>\n",
       "    </tr>\n",
       "  </thead>\n",
       "  <tbody>\n",
       "    <tr>\n",
       "      <th>B</th>\n",
       "      <td>92</td>\n",
       "      <td>90</td>\n",
       "      <td>91</td>\n",
       "    </tr>\n",
       "    <tr>\n",
       "      <th>E</th>\n",
       "      <td>91</td>\n",
       "      <td>88</td>\n",
       "      <td>92</td>\n",
       "    </tr>\n",
       "  </tbody>\n",
       "</table>\n",
       "</div>"
      ],
      "text/plain": [
       "   math  eng  kor\n",
       "B    92   90   91\n",
       "E    91   88   92"
      ]
     },
     "execution_count": 174,
     "metadata": {},
     "output_type": "execute_result"
    }
   ],
   "source": [
    "# 필터링\n",
    "# 데이터를 조건을 이용해서 가져오기\n",
    "\n",
    "# 1. 조건을 줄때는 어떤 값(컬럼)을 기준으로 조건을 주는 것인지 명확히 써주자!\n",
    "grade_df[ grade_df['math'] > 90 ]"
   ]
  },
  {
   "cell_type": "code",
   "execution_count": 182,
   "id": "20158b69",
   "metadata": {},
   "outputs": [
    {
     "data": {
      "text/html": [
       "<div>\n",
       "<style scoped>\n",
       "    .dataframe tbody tr th:only-of-type {\n",
       "        vertical-align: middle;\n",
       "    }\n",
       "\n",
       "    .dataframe tbody tr th {\n",
       "        vertical-align: top;\n",
       "    }\n",
       "\n",
       "    .dataframe thead th {\n",
       "        text-align: right;\n",
       "    }\n",
       "</style>\n",
       "<table border=\"1\" class=\"dataframe\">\n",
       "  <thead>\n",
       "    <tr style=\"text-align: right;\">\n",
       "      <th></th>\n",
       "      <th>math</th>\n",
       "      <th>eng</th>\n",
       "      <th>kor</th>\n",
       "    </tr>\n",
       "  </thead>\n",
       "  <tbody>\n",
       "    <tr>\n",
       "      <th>A</th>\n",
       "      <td>90</td>\n",
       "      <td>89</td>\n",
       "      <td>92</td>\n",
       "    </tr>\n",
       "    <tr>\n",
       "      <th>B</th>\n",
       "      <td>92</td>\n",
       "      <td>90</td>\n",
       "      <td>91</td>\n",
       "    </tr>\n",
       "    <tr>\n",
       "      <th>C</th>\n",
       "      <td>89</td>\n",
       "      <td>93</td>\n",
       "      <td>92</td>\n",
       "    </tr>\n",
       "    <tr>\n",
       "      <th>E</th>\n",
       "      <td>91</td>\n",
       "      <td>88</td>\n",
       "      <td>92</td>\n",
       "    </tr>\n",
       "  </tbody>\n",
       "</table>\n",
       "</div>"
      ],
      "text/plain": [
       "   math  eng  kor\n",
       "A    90   89   92\n",
       "B    92   90   91\n",
       "C    89   93   92\n",
       "E    91   88   92"
      ]
     },
     "execution_count": 182,
     "metadata": {},
     "output_type": "execute_result"
    }
   ],
   "source": [
    "# 2. 조건을 여러개 넣을 때 연산 순서에 조심하자!\n",
    "# 괄호로 묶어주기\n",
    "\n",
    "grade_df[ (grade_df['math'] > 90) | (grade_df['kor'] > 90)]"
   ]
  },
  {
   "cell_type": "code",
   "execution_count": 177,
   "id": "448844a2",
   "metadata": {},
   "outputs": [
    {
     "data": {
      "text/html": [
       "<div>\n",
       "<style scoped>\n",
       "    .dataframe tbody tr th:only-of-type {\n",
       "        vertical-align: middle;\n",
       "    }\n",
       "\n",
       "    .dataframe tbody tr th {\n",
       "        vertical-align: top;\n",
       "    }\n",
       "\n",
       "    .dataframe thead th {\n",
       "        text-align: right;\n",
       "    }\n",
       "</style>\n",
       "<table border=\"1\" class=\"dataframe\">\n",
       "  <thead>\n",
       "    <tr style=\"text-align: right;\">\n",
       "      <th></th>\n",
       "      <th>math</th>\n",
       "      <th>eng</th>\n",
       "      <th>kor</th>\n",
       "    </tr>\n",
       "  </thead>\n",
       "  <tbody>\n",
       "  </tbody>\n",
       "</table>\n",
       "</div>"
      ],
      "text/plain": [
       "Empty DataFrame\n",
       "Columns: [math, eng, kor]\n",
       "Index: []"
      ]
     },
     "execution_count": 177,
     "metadata": {},
     "output_type": "execute_result"
    }
   ],
   "source": [
    "# 3. 조건이 3개 이상이 되면 먼저 연산을 해서 변수에 할당한 후 필터링하자\n",
    "\n",
    "cond1 = grade_df['math'] > 90\n",
    "cond2 = grade_df['kor'] > 90\n",
    "cond3 = grade_df['eng'] > 90\n",
    "\n",
    "grade_df[ cond1 & cond2 & cond3 ]"
   ]
  },
  {
   "cell_type": "code",
   "execution_count": 191,
   "id": "74bb4267",
   "metadata": {},
   "outputs": [],
   "source": [
    "# DF의 연산 => 시리즈의 연산\n",
    "# 새로운 속성을 생성\n",
    "    \n",
    "grade_df['total'] = grade_df['math'] + grade_df['eng'] + grade_df['kor']"
   ]
  },
  {
   "cell_type": "code",
   "execution_count": 192,
   "id": "4e03e29e",
   "metadata": {},
   "outputs": [],
   "source": [
    "grade_df['avg'] = grade_df['total'] / 3"
   ]
  },
  {
   "cell_type": "code",
   "execution_count": 193,
   "id": "ef36cf27",
   "metadata": {},
   "outputs": [
    {
     "data": {
      "text/html": [
       "<div>\n",
       "<style scoped>\n",
       "    .dataframe tbody tr th:only-of-type {\n",
       "        vertical-align: middle;\n",
       "    }\n",
       "\n",
       "    .dataframe tbody tr th {\n",
       "        vertical-align: top;\n",
       "    }\n",
       "\n",
       "    .dataframe thead th {\n",
       "        text-align: right;\n",
       "    }\n",
       "</style>\n",
       "<table border=\"1\" class=\"dataframe\">\n",
       "  <thead>\n",
       "    <tr style=\"text-align: right;\">\n",
       "      <th></th>\n",
       "      <th>math</th>\n",
       "      <th>eng</th>\n",
       "      <th>kor</th>\n",
       "      <th>total</th>\n",
       "      <th>avg</th>\n",
       "    </tr>\n",
       "  </thead>\n",
       "  <tbody>\n",
       "    <tr>\n",
       "      <th>A</th>\n",
       "      <td>90</td>\n",
       "      <td>89</td>\n",
       "      <td>92</td>\n",
       "      <td>271</td>\n",
       "      <td>90.333333</td>\n",
       "    </tr>\n",
       "    <tr>\n",
       "      <th>B</th>\n",
       "      <td>92</td>\n",
       "      <td>90</td>\n",
       "      <td>91</td>\n",
       "      <td>273</td>\n",
       "      <td>91.000000</td>\n",
       "    </tr>\n",
       "    <tr>\n",
       "      <th>C</th>\n",
       "      <td>89</td>\n",
       "      <td>93</td>\n",
       "      <td>92</td>\n",
       "      <td>274</td>\n",
       "      <td>91.333333</td>\n",
       "    </tr>\n",
       "    <tr>\n",
       "      <th>D</th>\n",
       "      <td>90</td>\n",
       "      <td>91</td>\n",
       "      <td>90</td>\n",
       "      <td>271</td>\n",
       "      <td>90.333333</td>\n",
       "    </tr>\n",
       "    <tr>\n",
       "      <th>E</th>\n",
       "      <td>91</td>\n",
       "      <td>88</td>\n",
       "      <td>92</td>\n",
       "      <td>271</td>\n",
       "      <td>90.333333</td>\n",
       "    </tr>\n",
       "  </tbody>\n",
       "</table>\n",
       "</div>"
      ],
      "text/plain": [
       "   math  eng  kor  total        avg\n",
       "A    90   89   92    271  90.333333\n",
       "B    92   90   91    273  91.000000\n",
       "C    89   93   92    274  91.333333\n",
       "D    90   91   90    271  90.333333\n",
       "E    91   88   92    271  90.333333"
      ]
     },
     "execution_count": 193,
     "metadata": {},
     "output_type": "execute_result"
    }
   ],
   "source": [
    "grade_df"
   ]
  },
  {
   "cell_type": "code",
   "execution_count": 194,
   "id": "18cfd4ee",
   "metadata": {},
   "outputs": [
    {
     "data": {
      "text/html": [
       "<div>\n",
       "<style scoped>\n",
       "    .dataframe tbody tr th:only-of-type {\n",
       "        vertical-align: middle;\n",
       "    }\n",
       "\n",
       "    .dataframe tbody tr th {\n",
       "        vertical-align: top;\n",
       "    }\n",
       "\n",
       "    .dataframe thead th {\n",
       "        text-align: right;\n",
       "    }\n",
       "</style>\n",
       "<table border=\"1\" class=\"dataframe\">\n",
       "  <thead>\n",
       "    <tr style=\"text-align: right;\">\n",
       "      <th></th>\n",
       "      <th>math</th>\n",
       "      <th>eng</th>\n",
       "      <th>kor</th>\n",
       "      <th>total</th>\n",
       "      <th>avg</th>\n",
       "    </tr>\n",
       "  </thead>\n",
       "  <tbody>\n",
       "    <tr>\n",
       "      <th>A</th>\n",
       "      <td>90</td>\n",
       "      <td>89</td>\n",
       "      <td>92</td>\n",
       "      <td>271</td>\n",
       "      <td>90.333333</td>\n",
       "    </tr>\n",
       "    <tr>\n",
       "      <th>B</th>\n",
       "      <td>92</td>\n",
       "      <td>90</td>\n",
       "      <td>91</td>\n",
       "      <td>273</td>\n",
       "      <td>91.000000</td>\n",
       "    </tr>\n",
       "  </tbody>\n",
       "</table>\n",
       "</div>"
      ],
      "text/plain": [
       "   math  eng  kor  total        avg\n",
       "A    90   89   92    271  90.333333\n",
       "B    92   90   91    273  91.000000"
      ]
     },
     "execution_count": 194,
     "metadata": {},
     "output_type": "execute_result"
    }
   ],
   "source": [
    "grade_df[ : 2]"
   ]
  },
  {
   "cell_type": "markdown",
   "id": "71067110",
   "metadata": {},
   "source": [
    "#  3. DF 연습"
   ]
  },
  {
   "cell_type": "code",
   "execution_count": 195,
   "id": "394d33a1",
   "metadata": {},
   "outputs": [],
   "source": [
    "import seaborn as sns"
   ]
  },
  {
   "cell_type": "code",
   "execution_count": 197,
   "id": "e58a2af0",
   "metadata": {},
   "outputs": [],
   "source": [
    "titanic_df = sns.load_dataset( 'titanic' )"
   ]
  },
  {
   "cell_type": "code",
   "execution_count": 198,
   "id": "eca96f69",
   "metadata": {},
   "outputs": [
    {
     "data": {
      "text/plain": [
       "(891, 15)"
      ]
     },
     "execution_count": 198,
     "metadata": {},
     "output_type": "execute_result"
    }
   ],
   "source": [
    "titanic_df.shape"
   ]
  },
  {
   "cell_type": "code",
   "execution_count": 199,
   "id": "d28a76d6",
   "metadata": {
    "collapsed": true
   },
   "outputs": [
    {
     "name": "stdout",
     "output_type": "stream",
     "text": [
      "<class 'pandas.core.frame.DataFrame'>\n",
      "RangeIndex: 891 entries, 0 to 890\n",
      "Data columns (total 15 columns):\n",
      " #   Column       Non-Null Count  Dtype   \n",
      "---  ------       --------------  -----   \n",
      " 0   survived     891 non-null    int64   \n",
      " 1   pclass       891 non-null    int64   \n",
      " 2   sex          891 non-null    object  \n",
      " 3   age          714 non-null    float64 \n",
      " 4   sibsp        891 non-null    int64   \n",
      " 5   parch        891 non-null    int64   \n",
      " 6   fare         891 non-null    float64 \n",
      " 7   embarked     889 non-null    object  \n",
      " 8   class        891 non-null    category\n",
      " 9   who          891 non-null    object  \n",
      " 10  adult_male   891 non-null    bool    \n",
      " 11  deck         203 non-null    category\n",
      " 12  embark_town  889 non-null    object  \n",
      " 13  alive        891 non-null    object  \n",
      " 14  alone        891 non-null    bool    \n",
      "dtypes: bool(2), category(2), float64(2), int64(4), object(5)\n",
      "memory usage: 80.7+ KB\n"
     ]
    }
   ],
   "source": [
    "titanic_df.info()"
   ]
  },
  {
   "cell_type": "code",
   "execution_count": 202,
   "id": "84bf479e",
   "metadata": {},
   "outputs": [
    {
     "data": {
      "text/html": [
       "<div>\n",
       "<style scoped>\n",
       "    .dataframe tbody tr th:only-of-type {\n",
       "        vertical-align: middle;\n",
       "    }\n",
       "\n",
       "    .dataframe tbody tr th {\n",
       "        vertical-align: top;\n",
       "    }\n",
       "\n",
       "    .dataframe thead th {\n",
       "        text-align: right;\n",
       "    }\n",
       "</style>\n",
       "<table border=\"1\" class=\"dataframe\">\n",
       "  <thead>\n",
       "    <tr style=\"text-align: right;\">\n",
       "      <th></th>\n",
       "      <th>survived</th>\n",
       "      <th>pclass</th>\n",
       "      <th>sex</th>\n",
       "      <th>age</th>\n",
       "      <th>sibsp</th>\n",
       "      <th>parch</th>\n",
       "      <th>fare</th>\n",
       "      <th>embarked</th>\n",
       "      <th>class</th>\n",
       "      <th>who</th>\n",
       "      <th>adult_male</th>\n",
       "      <th>deck</th>\n",
       "      <th>embark_town</th>\n",
       "      <th>alive</th>\n",
       "      <th>alone</th>\n",
       "    </tr>\n",
       "  </thead>\n",
       "  <tbody>\n",
       "    <tr>\n",
       "      <th>0</th>\n",
       "      <td>0</td>\n",
       "      <td>3</td>\n",
       "      <td>male</td>\n",
       "      <td>22.0</td>\n",
       "      <td>1</td>\n",
       "      <td>0</td>\n",
       "      <td>7.2500</td>\n",
       "      <td>S</td>\n",
       "      <td>Third</td>\n",
       "      <td>man</td>\n",
       "      <td>True</td>\n",
       "      <td>NaN</td>\n",
       "      <td>Southampton</td>\n",
       "      <td>no</td>\n",
       "      <td>False</td>\n",
       "    </tr>\n",
       "    <tr>\n",
       "      <th>1</th>\n",
       "      <td>1</td>\n",
       "      <td>1</td>\n",
       "      <td>female</td>\n",
       "      <td>38.0</td>\n",
       "      <td>1</td>\n",
       "      <td>0</td>\n",
       "      <td>71.2833</td>\n",
       "      <td>C</td>\n",
       "      <td>First</td>\n",
       "      <td>woman</td>\n",
       "      <td>False</td>\n",
       "      <td>C</td>\n",
       "      <td>Cherbourg</td>\n",
       "      <td>yes</td>\n",
       "      <td>False</td>\n",
       "    </tr>\n",
       "  </tbody>\n",
       "</table>\n",
       "</div>"
      ],
      "text/plain": [
       "   survived  pclass     sex   age  sibsp  parch     fare embarked  class  \\\n",
       "0         0       3    male  22.0      1      0   7.2500        S  Third   \n",
       "1         1       1  female  38.0      1      0  71.2833        C  First   \n",
       "\n",
       "     who  adult_male deck  embark_town alive  alone  \n",
       "0    man        True  NaN  Southampton    no  False  \n",
       "1  woman       False    C    Cherbourg   yes  False  "
      ]
     },
     "execution_count": 202,
     "metadata": {},
     "output_type": "execute_result"
    }
   ],
   "source": [
    "titanic_df.head(2) # titanic_df[:2]"
   ]
  },
  {
   "cell_type": "code",
   "execution_count": 204,
   "id": "ed58b453",
   "metadata": {},
   "outputs": [
    {
     "data": {
      "text/html": [
       "<div>\n",
       "<style scoped>\n",
       "    .dataframe tbody tr th:only-of-type {\n",
       "        vertical-align: middle;\n",
       "    }\n",
       "\n",
       "    .dataframe tbody tr th {\n",
       "        vertical-align: top;\n",
       "    }\n",
       "\n",
       "    .dataframe thead th {\n",
       "        text-align: right;\n",
       "    }\n",
       "</style>\n",
       "<table border=\"1\" class=\"dataframe\">\n",
       "  <thead>\n",
       "    <tr style=\"text-align: right;\">\n",
       "      <th></th>\n",
       "      <th>survived</th>\n",
       "      <th>pclass</th>\n",
       "      <th>sex</th>\n",
       "      <th>age</th>\n",
       "      <th>sibsp</th>\n",
       "      <th>parch</th>\n",
       "      <th>fare</th>\n",
       "      <th>embarked</th>\n",
       "      <th>class</th>\n",
       "      <th>who</th>\n",
       "      <th>adult_male</th>\n",
       "      <th>deck</th>\n",
       "      <th>embark_town</th>\n",
       "      <th>alive</th>\n",
       "      <th>alone</th>\n",
       "    </tr>\n",
       "  </thead>\n",
       "  <tbody>\n",
       "    <tr>\n",
       "      <th>886</th>\n",
       "      <td>0</td>\n",
       "      <td>2</td>\n",
       "      <td>male</td>\n",
       "      <td>27.0</td>\n",
       "      <td>0</td>\n",
       "      <td>0</td>\n",
       "      <td>13.00</td>\n",
       "      <td>S</td>\n",
       "      <td>Second</td>\n",
       "      <td>man</td>\n",
       "      <td>True</td>\n",
       "      <td>NaN</td>\n",
       "      <td>Southampton</td>\n",
       "      <td>no</td>\n",
       "      <td>True</td>\n",
       "    </tr>\n",
       "    <tr>\n",
       "      <th>887</th>\n",
       "      <td>1</td>\n",
       "      <td>1</td>\n",
       "      <td>female</td>\n",
       "      <td>19.0</td>\n",
       "      <td>0</td>\n",
       "      <td>0</td>\n",
       "      <td>30.00</td>\n",
       "      <td>S</td>\n",
       "      <td>First</td>\n",
       "      <td>woman</td>\n",
       "      <td>False</td>\n",
       "      <td>B</td>\n",
       "      <td>Southampton</td>\n",
       "      <td>yes</td>\n",
       "      <td>True</td>\n",
       "    </tr>\n",
       "    <tr>\n",
       "      <th>888</th>\n",
       "      <td>0</td>\n",
       "      <td>3</td>\n",
       "      <td>female</td>\n",
       "      <td>NaN</td>\n",
       "      <td>1</td>\n",
       "      <td>2</td>\n",
       "      <td>23.45</td>\n",
       "      <td>S</td>\n",
       "      <td>Third</td>\n",
       "      <td>woman</td>\n",
       "      <td>False</td>\n",
       "      <td>NaN</td>\n",
       "      <td>Southampton</td>\n",
       "      <td>no</td>\n",
       "      <td>False</td>\n",
       "    </tr>\n",
       "    <tr>\n",
       "      <th>889</th>\n",
       "      <td>1</td>\n",
       "      <td>1</td>\n",
       "      <td>male</td>\n",
       "      <td>26.0</td>\n",
       "      <td>0</td>\n",
       "      <td>0</td>\n",
       "      <td>30.00</td>\n",
       "      <td>C</td>\n",
       "      <td>First</td>\n",
       "      <td>man</td>\n",
       "      <td>True</td>\n",
       "      <td>C</td>\n",
       "      <td>Cherbourg</td>\n",
       "      <td>yes</td>\n",
       "      <td>True</td>\n",
       "    </tr>\n",
       "    <tr>\n",
       "      <th>890</th>\n",
       "      <td>0</td>\n",
       "      <td>3</td>\n",
       "      <td>male</td>\n",
       "      <td>32.0</td>\n",
       "      <td>0</td>\n",
       "      <td>0</td>\n",
       "      <td>7.75</td>\n",
       "      <td>Q</td>\n",
       "      <td>Third</td>\n",
       "      <td>man</td>\n",
       "      <td>True</td>\n",
       "      <td>NaN</td>\n",
       "      <td>Queenstown</td>\n",
       "      <td>no</td>\n",
       "      <td>True</td>\n",
       "    </tr>\n",
       "  </tbody>\n",
       "</table>\n",
       "</div>"
      ],
      "text/plain": [
       "     survived  pclass     sex   age  sibsp  parch   fare embarked   class  \\\n",
       "886         0       2    male  27.0      0      0  13.00        S  Second   \n",
       "887         1       1  female  19.0      0      0  30.00        S   First   \n",
       "888         0       3  female   NaN      1      2  23.45        S   Third   \n",
       "889         1       1    male  26.0      0      0  30.00        C   First   \n",
       "890         0       3    male  32.0      0      0   7.75        Q   Third   \n",
       "\n",
       "       who  adult_male deck  embark_town alive  alone  \n",
       "886    man        True  NaN  Southampton    no   True  \n",
       "887  woman       False    B  Southampton   yes   True  \n",
       "888  woman       False  NaN  Southampton    no  False  \n",
       "889    man        True    C    Cherbourg   yes   True  \n",
       "890    man        True  NaN   Queenstown    no   True  "
      ]
     },
     "execution_count": 204,
     "metadata": {},
     "output_type": "execute_result"
    }
   ],
   "source": [
    "titanic_df.tail()  # titanic_df[-5:]"
   ]
  },
  {
   "cell_type": "code",
   "execution_count": 208,
   "id": "ba7357f9",
   "metadata": {},
   "outputs": [],
   "source": [
    "live = 0\n",
    "dead = 0\n",
    "\n",
    "for val in titanic_df['survived']:\n",
    "    if val:\n",
    "        live += 1\n",
    "    else:\n",
    "        dead += 1"
   ]
  },
  {
   "cell_type": "code",
   "execution_count": 209,
   "id": "f0aadb1f",
   "metadata": {},
   "outputs": [
    {
     "data": {
      "text/plain": [
       "(342, 549)"
      ]
     },
     "execution_count": 209,
     "metadata": {},
     "output_type": "execute_result"
    }
   ],
   "source": [
    "live, dead"
   ]
  },
  {
   "cell_type": "code",
   "execution_count": 212,
   "id": "805a41de",
   "metadata": {},
   "outputs": [
    {
     "data": {
      "text/plain": [
       "0    0.616162\n",
       "1    0.383838\n",
       "Name: survived, dtype: float64"
      ]
     },
     "execution_count": 212,
     "metadata": {},
     "output_type": "execute_result"
    }
   ],
   "source": [
    "titanic_df['survived'].value_counts(normalize=True)"
   ]
  },
  {
   "cell_type": "code",
   "execution_count": 217,
   "id": "8bfbc077",
   "metadata": {},
   "outputs": [],
   "source": [
    "# pclass와 생존률 간의 관계\n",
    "\n",
    "titanic_df['pclass'].unique()"
   ]
  },
  {
   "cell_type": "code",
   "execution_count": 227,
   "id": "96a9ee8d",
   "metadata": {},
   "outputs": [],
   "source": [
    "def show_cate_survived(df, column):\n",
    "    for cate in df[column].unique():\n",
    "        temp = df[ titanic_df[column] == cate ]\n",
    "        print(cate)\n",
    "        print(temp['survived'].value_counts(normalize=True))"
   ]
  },
  {
   "cell_type": "code",
   "execution_count": 230,
   "id": "7ee8df67",
   "metadata": {},
   "outputs": [
    {
     "name": "stdout",
     "output_type": "stream",
     "text": [
      "male\n",
      "0    0.811092\n",
      "1    0.188908\n",
      "Name: survived, dtype: float64\n",
      "female\n",
      "1    0.742038\n",
      "0    0.257962\n",
      "Name: survived, dtype: float64\n"
     ]
    }
   ],
   "source": [
    "show_cate_survived(titanic_df, 'sex')"
   ]
  },
  {
   "cell_type": "code",
   "execution_count": 232,
   "id": "234fe966",
   "metadata": {},
   "outputs": [
    {
     "data": {
      "text/html": [
       "<div>\n",
       "<style scoped>\n",
       "    .dataframe tbody tr th:only-of-type {\n",
       "        vertical-align: middle;\n",
       "    }\n",
       "\n",
       "    .dataframe tbody tr th {\n",
       "        vertical-align: top;\n",
       "    }\n",
       "\n",
       "    .dataframe thead th {\n",
       "        text-align: right;\n",
       "    }\n",
       "</style>\n",
       "<table border=\"1\" class=\"dataframe\">\n",
       "  <thead>\n",
       "    <tr style=\"text-align: right;\">\n",
       "      <th></th>\n",
       "      <th>survived</th>\n",
       "      <th>pclass</th>\n",
       "      <th>sex</th>\n",
       "      <th>age</th>\n",
       "      <th>sibsp</th>\n",
       "      <th>parch</th>\n",
       "      <th>fare</th>\n",
       "      <th>embarked</th>\n",
       "      <th>class</th>\n",
       "      <th>who</th>\n",
       "      <th>adult_male</th>\n",
       "      <th>deck</th>\n",
       "      <th>embark_town</th>\n",
       "      <th>alive</th>\n",
       "      <th>alone</th>\n",
       "    </tr>\n",
       "  </thead>\n",
       "  <tbody>\n",
       "    <tr>\n",
       "      <th>27</th>\n",
       "      <td>0</td>\n",
       "      <td>1</td>\n",
       "      <td>male</td>\n",
       "      <td>19.00</td>\n",
       "      <td>3</td>\n",
       "      <td>2</td>\n",
       "      <td>263.0000</td>\n",
       "      <td>S</td>\n",
       "      <td>First</td>\n",
       "      <td>man</td>\n",
       "      <td>True</td>\n",
       "      <td>C</td>\n",
       "      <td>Southampton</td>\n",
       "      <td>no</td>\n",
       "      <td>False</td>\n",
       "    </tr>\n",
       "    <tr>\n",
       "      <th>305</th>\n",
       "      <td>1</td>\n",
       "      <td>1</td>\n",
       "      <td>male</td>\n",
       "      <td>0.92</td>\n",
       "      <td>1</td>\n",
       "      <td>2</td>\n",
       "      <td>151.5500</td>\n",
       "      <td>S</td>\n",
       "      <td>First</td>\n",
       "      <td>child</td>\n",
       "      <td>False</td>\n",
       "      <td>C</td>\n",
       "      <td>Southampton</td>\n",
       "      <td>yes</td>\n",
       "      <td>False</td>\n",
       "    </tr>\n",
       "    <tr>\n",
       "      <th>505</th>\n",
       "      <td>0</td>\n",
       "      <td>1</td>\n",
       "      <td>male</td>\n",
       "      <td>18.00</td>\n",
       "      <td>1</td>\n",
       "      <td>0</td>\n",
       "      <td>108.9000</td>\n",
       "      <td>C</td>\n",
       "      <td>First</td>\n",
       "      <td>man</td>\n",
       "      <td>True</td>\n",
       "      <td>C</td>\n",
       "      <td>Cherbourg</td>\n",
       "      <td>no</td>\n",
       "      <td>False</td>\n",
       "    </tr>\n",
       "    <tr>\n",
       "      <th>550</th>\n",
       "      <td>1</td>\n",
       "      <td>1</td>\n",
       "      <td>male</td>\n",
       "      <td>17.00</td>\n",
       "      <td>0</td>\n",
       "      <td>2</td>\n",
       "      <td>110.8833</td>\n",
       "      <td>C</td>\n",
       "      <td>First</td>\n",
       "      <td>man</td>\n",
       "      <td>True</td>\n",
       "      <td>C</td>\n",
       "      <td>Cherbourg</td>\n",
       "      <td>yes</td>\n",
       "      <td>False</td>\n",
       "    </tr>\n",
       "    <tr>\n",
       "      <th>802</th>\n",
       "      <td>1</td>\n",
       "      <td>1</td>\n",
       "      <td>male</td>\n",
       "      <td>11.00</td>\n",
       "      <td>1</td>\n",
       "      <td>2</td>\n",
       "      <td>120.0000</td>\n",
       "      <td>S</td>\n",
       "      <td>First</td>\n",
       "      <td>child</td>\n",
       "      <td>False</td>\n",
       "      <td>B</td>\n",
       "      <td>Southampton</td>\n",
       "      <td>yes</td>\n",
       "      <td>False</td>\n",
       "    </tr>\n",
       "  </tbody>\n",
       "</table>\n",
       "</div>"
      ],
      "text/plain": [
       "     survived  pclass   sex    age  sibsp  parch      fare embarked  class  \\\n",
       "27          0       1  male  19.00      3      2  263.0000        S  First   \n",
       "305         1       1  male   0.92      1      2  151.5500        S  First   \n",
       "505         0       1  male  18.00      1      0  108.9000        C  First   \n",
       "550         1       1  male  17.00      0      2  110.8833        C  First   \n",
       "802         1       1  male  11.00      1      2  120.0000        S  First   \n",
       "\n",
       "       who  adult_male deck  embark_town alive  alone  \n",
       "27     man        True    C  Southampton    no  False  \n",
       "305  child       False    C  Southampton   yes  False  \n",
       "505    man        True    C    Cherbourg    no  False  \n",
       "550    man        True    C    Cherbourg   yes  False  \n",
       "802  child       False    B  Southampton   yes  False  "
      ]
     },
     "execution_count": 232,
     "metadata": {},
     "output_type": "execute_result"
    }
   ],
   "source": [
    "# 필터링 연습\n",
    "# 남자이고 20살 이하 요금을 100달러 이상 낸 데이터만 가져오기\n",
    "\n",
    "cond1 = titanic_df['sex'] == 'male'\n",
    "cond2 = titanic_df['age'] <= 20\n",
    "cond3 = titanic_df['fare'] >= 100\n",
    "\n",
    "titanic_df[ cond1 & cond2 & cond3 ]"
   ]
  },
  {
   "cell_type": "markdown",
   "id": "e49af3ff",
   "metadata": {},
   "source": [
    "# 엑셀 데이터를 DF으로 정리하는 연습\n",
    "통계청, 공공데이터 포탈, 서울시 데이터 광장\n",
    "1. 컬럼\n",
    "    - 사용할 컬럼(사용 안할 컬럼 삭제)\n",
    "    - 컬럼명을 사용하기 좋게 바꾸기\n",
    "2. 인덱스\n",
    "    - 보통의 경우 0, 1, 2, ... \n",
    "    - 시계열 데이터(시간에 따라 값이 변해서 저장하는)경우 인덱스 datetime 날짜형식 데이터로 세팅\n",
    "3. 데이터 값\n",
    "    - 결측 데이터\n",
    "    - 데이터 타입"
   ]
  },
  {
   "cell_type": "markdown",
   "id": "58ee94ab",
   "metadata": {},
   "source": [
    "## 1. read_excel\n",
    "- 엑셀에서 특정 시트의 데이터를 DF로 가져옴\n",
    "- header, index_col, usecols, skiprows, na_values"
   ]
  },
  {
   "cell_type": "code",
   "execution_count": 238,
   "id": "9128de28",
   "metadata": {},
   "outputs": [],
   "source": [
    "path = r'C:\\Users\\cypark\\Desktop\\Python을 활용한 빅데이터 분석 실무 실습자료\\졸업생의 진로 현황(전체).xlsx'\n",
    "\n",
    "raw_df = pd.read_excel( path, sheet_name=0 )"
   ]
  },
  {
   "cell_type": "markdown",
   "id": "6268117b",
   "metadata": {},
   "source": [
    "## 2. 컬럼파트\n",
    "- 사용할 컬럼 추리고\n",
    "- 컬럼명 바꾸기"
   ]
  },
  {
   "cell_type": "code",
   "execution_count": 242,
   "id": "7693223f",
   "metadata": {},
   "outputs": [],
   "source": [
    "raw_df.columns\n",
    "# 각 데이터를 유니크하게 구별할 수 있는 컬럼 무조건 챙기기 ex. '정보공시 \\n 학교코드'\n",
    "\n",
    "use_cols = ['지역', '정보공시 \\n 학교코드', '학교명', '졸업자.2', \n",
    "            '(특수목적고)과학고 진학자.2', '(특수목적고)외고ㆍ국제고 진학자.2']"
   ]
  },
  {
   "cell_type": "code",
   "execution_count": 243,
   "id": "42ee3601",
   "metadata": {},
   "outputs": [
    {
     "data": {
      "text/html": [
       "<div>\n",
       "<style scoped>\n",
       "    .dataframe tbody tr th:only-of-type {\n",
       "        vertical-align: middle;\n",
       "    }\n",
       "\n",
       "    .dataframe tbody tr th {\n",
       "        vertical-align: top;\n",
       "    }\n",
       "\n",
       "    .dataframe thead th {\n",
       "        text-align: right;\n",
       "    }\n",
       "</style>\n",
       "<table border=\"1\" class=\"dataframe\">\n",
       "  <thead>\n",
       "    <tr style=\"text-align: right;\">\n",
       "      <th></th>\n",
       "      <th>지역</th>\n",
       "      <th>정보공시 \\n 학교코드</th>\n",
       "      <th>학교명</th>\n",
       "      <th>졸업자.2</th>\n",
       "      <th>(특수목적고)과학고 진학자.2</th>\n",
       "      <th>(특수목적고)외고ㆍ국제고 진학자.2</th>\n",
       "    </tr>\n",
       "  </thead>\n",
       "  <tbody>\n",
       "    <tr>\n",
       "      <th>0</th>\n",
       "      <td>지역</td>\n",
       "      <td>정보공시 \\n 학교코드</td>\n",
       "      <td>학교명</td>\n",
       "      <td>합계</td>\n",
       "      <td>합계</td>\n",
       "      <td>합계</td>\n",
       "    </tr>\n",
       "    <tr>\n",
       "      <th>1</th>\n",
       "      <td>서울특별시 성북구</td>\n",
       "      <td>S000003514</td>\n",
       "      <td>서울대학교사범대학부설중학교</td>\n",
       "      <td>234</td>\n",
       "      <td>4</td>\n",
       "      <td>5</td>\n",
       "    </tr>\n",
       "    <tr>\n",
       "      <th>2</th>\n",
       "      <td>서울특별시 종로구</td>\n",
       "      <td>S000003562</td>\n",
       "      <td>서울대학교사범대학부설여자중학교</td>\n",
       "      <td>172</td>\n",
       "      <td>0</td>\n",
       "      <td>8</td>\n",
       "    </tr>\n",
       "    <tr>\n",
       "      <th>3</th>\n",
       "      <td>서울특별시 강남구</td>\n",
       "      <td>S010000698</td>\n",
       "      <td>개원중학교</td>\n",
       "      <td>214</td>\n",
       "      <td>2</td>\n",
       "      <td>9</td>\n",
       "    </tr>\n",
       "    <tr>\n",
       "      <th>4</th>\n",
       "      <td>서울특별시 서초구</td>\n",
       "      <td>S010000700</td>\n",
       "      <td>경원중학교</td>\n",
       "      <td>310</td>\n",
       "      <td>5</td>\n",
       "      <td>4</td>\n",
       "    </tr>\n",
       "    <tr>\n",
       "      <th>...</th>\n",
       "      <td>...</td>\n",
       "      <td>...</td>\n",
       "      <td>...</td>\n",
       "      <td>...</td>\n",
       "      <td>...</td>\n",
       "      <td>...</td>\n",
       "    </tr>\n",
       "    <tr>\n",
       "      <th>3454</th>\n",
       "      <td>제주특별자치도 제주시</td>\n",
       "      <td>S170000844</td>\n",
       "      <td>탐라중학교</td>\n",
       "      <td>298</td>\n",
       "      <td>1</td>\n",
       "      <td>1</td>\n",
       "    </tr>\n",
       "    <tr>\n",
       "      <th>3455</th>\n",
       "      <td>제주특별자치도 제주시</td>\n",
       "      <td>S170000512</td>\n",
       "      <td>제주영지학교</td>\n",
       "      <td>12</td>\n",
       "      <td>0</td>\n",
       "      <td>0</td>\n",
       "    </tr>\n",
       "    <tr>\n",
       "      <th>3456</th>\n",
       "      <td>제주특별자치도 제주시</td>\n",
       "      <td>S170000513</td>\n",
       "      <td>제주영송학교</td>\n",
       "      <td>21</td>\n",
       "      <td>0</td>\n",
       "      <td>0</td>\n",
       "    </tr>\n",
       "    <tr>\n",
       "      <th>3457</th>\n",
       "      <td>제주특별자치도 서귀포시</td>\n",
       "      <td>S170000790</td>\n",
       "      <td>서귀포온성학교</td>\n",
       "      <td>9</td>\n",
       "      <td>0</td>\n",
       "      <td>0</td>\n",
       "    </tr>\n",
       "    <tr>\n",
       "      <th>3458</th>\n",
       "      <td>제주특별자치도 제주시</td>\n",
       "      <td>S170000870</td>\n",
       "      <td>제주제일중학교부설방송통신중학교</td>\n",
       "      <td>NaN</td>\n",
       "      <td>NaN</td>\n",
       "      <td>NaN</td>\n",
       "    </tr>\n",
       "  </tbody>\n",
       "</table>\n",
       "<p>3459 rows × 6 columns</p>\n",
       "</div>"
      ],
      "text/plain": [
       "                지역  정보공시 \\n 학교코드               학교명 졸업자.2 (특수목적고)과학고 진학자.2  \\\n",
       "0               지역  정보공시 \\n 학교코드               학교명    합계               합계   \n",
       "1        서울특별시 성북구    S000003514    서울대학교사범대학부설중학교   234                4   \n",
       "2        서울특별시 종로구    S000003562  서울대학교사범대학부설여자중학교   172                0   \n",
       "3        서울특별시 강남구    S010000698             개원중학교   214                2   \n",
       "4        서울특별시 서초구    S010000700             경원중학교   310                5   \n",
       "...            ...           ...               ...   ...              ...   \n",
       "3454   제주특별자치도 제주시    S170000844             탐라중학교   298                1   \n",
       "3455   제주특별자치도 제주시    S170000512            제주영지학교    12                0   \n",
       "3456   제주특별자치도 제주시    S170000513            제주영송학교    21                0   \n",
       "3457  제주특별자치도 서귀포시    S170000790           서귀포온성학교     9                0   \n",
       "3458   제주특별자치도 제주시    S170000870  제주제일중학교부설방송통신중학교   NaN              NaN   \n",
       "\n",
       "     (특수목적고)외고ㆍ국제고 진학자.2  \n",
       "0                     합계  \n",
       "1                      5  \n",
       "2                      8  \n",
       "3                      9  \n",
       "4                      4  \n",
       "...                  ...  \n",
       "3454                   1  \n",
       "3455                   0  \n",
       "3456                   0  \n",
       "3457                   0  \n",
       "3458                 NaN  \n",
       "\n",
       "[3459 rows x 6 columns]"
      ]
     },
     "execution_count": 243,
     "metadata": {},
     "output_type": "execute_result"
    }
   ],
   "source": [
    "# 여러개의 컬럼을 선택할 때 => 리스트로\n",
    "\n",
    "raw_df[ use_cols ]"
   ]
  },
  {
   "cell_type": "code",
   "execution_count": null,
   "id": "165d22d9",
   "metadata": {},
   "outputs": [],
   "source": []
  },
  {
   "cell_type": "code",
   "execution_count": null,
   "id": "f1a85ec9",
   "metadata": {},
   "outputs": [],
   "source": []
  }
 ],
 "metadata": {
  "kernelspec": {
   "display_name": "Python 3 (ipykernel)",
   "language": "python",
   "name": "python3"
  },
  "language_info": {
   "codemirror_mode": {
    "name": "ipython",
    "version": 3
   },
   "file_extension": ".py",
   "mimetype": "text/x-python",
   "name": "python",
   "nbconvert_exporter": "python",
   "pygments_lexer": "ipython3",
   "version": "3.8.12"
  }
 },
 "nbformat": 4,
 "nbformat_minor": 5
}
